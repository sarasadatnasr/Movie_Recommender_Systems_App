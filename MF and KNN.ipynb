{
 "cells": [
  {
   "cell_type": "markdown",
   "metadata": {},
   "source": [
    "# Imports"
   ]
  },
  {
   "cell_type": "code",
   "execution_count": 1,
   "metadata": {},
   "outputs": [],
   "source": [
    "import matplotlib.pyplot as plt\n",
    "import numpy as np\n",
    "import pandas as pd\n",
    "import surprise\n",
    "from surprise import SVD, Dataset, Reader\n",
    "from surprise.model_selection import train_test_split\n",
    "import recmetrics"
   ]
  },
  {
   "cell_type": "markdown",
   "metadata": {},
   "source": [
    "# Dataset"
   ]
  },
  {
   "cell_type": "code",
   "execution_count": 2,
   "metadata": {},
   "outputs": [],
   "source": [
    "ratings = pd.read_csv('Small/data/ratings.csv')"
   ]
  },
  {
   "cell_type": "code",
   "execution_count": 3,
   "metadata": {},
   "outputs": [],
   "source": [
    "reader = Reader(rating_scale=(0, 5))\n",
    "data = Dataset.load_from_df(ratings[['userId', 'movieId', 'rating']], reader)\n",
    "trainset, testset = train_test_split(data, test_size=0.25)"
   ]
  },
  {
   "cell_type": "markdown",
   "metadata": {},
   "source": [
    "# Recommendations"
   ]
  },
  {
   "cell_type": "code",
   "execution_count": 4,
   "metadata": {},
   "outputs": [],
   "source": [
    "def get_users_predictions(user_id, n, model):\n",
    "    recommended_items = pd.DataFrame(model.loc[user_id])\n",
    "    recommended_items.columns = [\"predicted_rating\"]\n",
    "    recommended_items = recommended_items.sort_values('predicted_rating', ascending=False)    \n",
    "    recommended_items = recommended_items.head(n)\n",
    "    return recommended_items.index.tolist()"
   ]
  },
  {
   "cell_type": "markdown",
   "metadata": {},
   "source": [
    "### Matrix Factorization"
   ]
  },
  {
   "cell_type": "code",
   "execution_count": 5,
   "metadata": {},
   "outputs": [
    {
     "data": {
      "text/html": [
       "<div>\n",
       "<style scoped>\n",
       "    .dataframe tbody tr th:only-of-type {\n",
       "        vertical-align: middle;\n",
       "    }\n",
       "\n",
       "    .dataframe tbody tr th {\n",
       "        vertical-align: top;\n",
       "    }\n",
       "\n",
       "    .dataframe thead th {\n",
       "        text-align: right;\n",
       "    }\n",
       "</style>\n",
       "<table border=\"1\" class=\"dataframe\">\n",
       "  <thead>\n",
       "    <tr style=\"text-align: right;\">\n",
       "      <th></th>\n",
       "      <th>userId</th>\n",
       "      <th>recommended_movies</th>\n",
       "    </tr>\n",
       "  </thead>\n",
       "  <tbody>\n",
       "    <tr>\n",
       "      <th>0</th>\n",
       "      <td>1</td>\n",
       "      <td>[1197, 2959, 1222, 1617, 923, 1198, 3740, 1219...</td>\n",
       "    </tr>\n",
       "    <tr>\n",
       "      <th>1</th>\n",
       "      <td>2</td>\n",
       "      <td>[318, 109487, 79132, 115713, 3578, 89774, 1317...</td>\n",
       "    </tr>\n",
       "    <tr>\n",
       "      <th>2</th>\n",
       "      <td>3</td>\n",
       "      <td>[3703, 3210, 1093, 5181, 849, 2851, 72378, 331...</td>\n",
       "    </tr>\n",
       "    <tr>\n",
       "      <th>3</th>\n",
       "      <td>4</td>\n",
       "      <td>[1219, 898, 1617, 912, 4226, 1304, 47, 2858, 1...</td>\n",
       "    </tr>\n",
       "    <tr>\n",
       "      <th>4</th>\n",
       "      <td>5</td>\n",
       "      <td>[296, 34, 265, 364, 589, 232, 247, 36, 290, 534]</td>\n",
       "    </tr>\n",
       "    <tr>\n",
       "      <th>...</th>\n",
       "      <td>...</td>\n",
       "      <td>...</td>\n",
       "    </tr>\n",
       "    <tr>\n",
       "      <th>605</th>\n",
       "      <td>606</td>\n",
       "      <td>[912, 750, 4226, 3147, 1208, 7153, 260, 4973, ...</td>\n",
       "    </tr>\n",
       "    <tr>\n",
       "      <th>606</th>\n",
       "      <td>607</td>\n",
       "      <td>[1249, 1374, 457, 110, 2762, 1954, 2791, 3114,...</td>\n",
       "    </tr>\n",
       "    <tr>\n",
       "      <th>607</th>\n",
       "      <td>608</td>\n",
       "      <td>[50, 4878, 1387, 4993, 5418, 223, 5954, 54503,...</td>\n",
       "    </tr>\n",
       "    <tr>\n",
       "      <th>608</th>\n",
       "      <td>609</td>\n",
       "      <td>[318, 296, 1, 589, 1150, 590, 731, 288, 292, 828]</td>\n",
       "    </tr>\n",
       "    <tr>\n",
       "      <th>609</th>\n",
       "      <td>610</td>\n",
       "      <td>[858, 1197, 1201, 56782, 49272, 38061, 741, 39...</td>\n",
       "    </tr>\n",
       "  </tbody>\n",
       "</table>\n",
       "<p>610 rows × 2 columns</p>\n",
       "</div>"
      ],
      "text/plain": [
       "     userId                                 recommended_movies\n",
       "0         1  [1197, 2959, 1222, 1617, 923, 1198, 3740, 1219...\n",
       "1         2  [318, 109487, 79132, 115713, 3578, 89774, 1317...\n",
       "2         3  [3703, 3210, 1093, 5181, 849, 2851, 72378, 331...\n",
       "3         4  [1219, 898, 1617, 912, 4226, 1304, 47, 2858, 1...\n",
       "4         5   [296, 34, 265, 364, 589, 232, 247, 36, 290, 534]\n",
       "..      ...                                                ...\n",
       "605     606  [912, 750, 4226, 3147, 1208, 7153, 260, 4973, ...\n",
       "606     607  [1249, 1374, 457, 110, 2762, 1954, 2791, 3114,...\n",
       "607     608  [50, 4878, 1387, 4993, 5418, 223, 5954, 54503,...\n",
       "608     609  [318, 296, 1, 589, 1150, 590, 731, 288, 292, 828]\n",
       "609     610  [858, 1197, 1201, 56782, 49272, 38061, 741, 39...\n",
       "\n",
       "[610 rows x 2 columns]"
      ]
     },
     "execution_count": 5,
     "metadata": {},
     "output_type": "execute_result"
    }
   ],
   "source": [
    "algo = surprise.prediction_algorithms.matrix_factorization.SVD()\n",
    "algo.fit(trainset)\n",
    "mf_test = algo.test(testset)\n",
    "mf_test = pd.DataFrame(mf_test)\n",
    "mf_test.drop(\"details\", inplace=True, axis=1)\n",
    "mf_test.columns = ['userId', 'movieId', 'actual', 'svd_predictions']\n",
    "mf_model = mf_test.pivot_table(index='userId', columns='movieId', values='svd_predictions').fillna(0)\n",
    "\n",
    "mf_test = mf_test.copy().groupby('userId', as_index=False)['movieId'].agg({'actual': (lambda x: list(set(x)))})\n",
    "mf_test = mf_test.set_index(\"userId\")\n",
    "\n",
    "mf_recs = []\n",
    "for user in mf_test.index:\n",
    "    mf_predictions = get_users_predictions(user, 10, mf_model)\n",
    "    mf_recs.append(mf_predictions)\n",
    "        \n",
    "mf_test['recommended_movies'] = mf_recs\n",
    "mf_recommendations = mf_test.reset_index().drop(columns='actual')\n",
    "\n",
    "mf_recommendations.to_csv('Small/recommendations/mf.csv')\n",
    "mf_recommendations"
   ]
  },
  {
   "cell_type": "markdown",
   "metadata": {},
   "source": [
    "### KNN"
   ]
  },
  {
   "cell_type": "code",
   "execution_count": 6,
   "metadata": {},
   "outputs": [
    {
     "name": "stdout",
     "output_type": "stream",
     "text": [
      "Estimating biases using als...\n",
      "Computing the msd similarity matrix...\n",
      "Done computing similarity matrix.\n"
     ]
    },
    {
     "data": {
      "text/html": [
       "<div>\n",
       "<style scoped>\n",
       "    .dataframe tbody tr th:only-of-type {\n",
       "        vertical-align: middle;\n",
       "    }\n",
       "\n",
       "    .dataframe tbody tr th {\n",
       "        vertical-align: top;\n",
       "    }\n",
       "\n",
       "    .dataframe thead th {\n",
       "        text-align: right;\n",
       "    }\n",
       "</style>\n",
       "<table border=\"1\" class=\"dataframe\">\n",
       "  <thead>\n",
       "    <tr style=\"text-align: right;\">\n",
       "      <th></th>\n",
       "      <th>userId</th>\n",
       "      <th>recommended_movies</th>\n",
       "    </tr>\n",
       "  </thead>\n",
       "  <tbody>\n",
       "    <tr>\n",
       "      <th>0</th>\n",
       "      <td>1</td>\n",
       "      <td>[1222, 1617, 943, 1197, 923, 3062, 3740, 1219,...</td>\n",
       "    </tr>\n",
       "    <tr>\n",
       "      <th>1</th>\n",
       "      <td>2</td>\n",
       "      <td>[318, 115713, 109487, 3578, 79132, 89774, 1317...</td>\n",
       "    </tr>\n",
       "    <tr>\n",
       "      <th>2</th>\n",
       "      <td>3</td>\n",
       "      <td>[3703, 1093, 3210, 5181, 849, 2851, 72378, 331...</td>\n",
       "    </tr>\n",
       "    <tr>\n",
       "      <th>3</th>\n",
       "      <td>4</td>\n",
       "      <td>[1279, 296, 2351, 2973, 1219, 912, 1704, 898, ...</td>\n",
       "    </tr>\n",
       "    <tr>\n",
       "      <th>4</th>\n",
       "      <td>5</td>\n",
       "      <td>[296, 247, 364, 265, 34, 290, 36, 534, 594, 589]</td>\n",
       "    </tr>\n",
       "    <tr>\n",
       "      <th>...</th>\n",
       "      <td>...</td>\n",
       "      <td>...</td>\n",
       "    </tr>\n",
       "    <tr>\n",
       "      <th>605</th>\n",
       "      <td>606</td>\n",
       "      <td>[506, 1571, 1066, 33564, 318, 28, 2436, 4973, ...</td>\n",
       "    </tr>\n",
       "    <tr>\n",
       "      <th>606</th>\n",
       "      <td>607</td>\n",
       "      <td>[110, 1249, 1374, 1954, 457, 2762, 1304, 1258,...</td>\n",
       "    </tr>\n",
       "    <tr>\n",
       "      <th>607</th>\n",
       "      <td>608</td>\n",
       "      <td>[430, 8132, 4226, 527, 50, 593, 1261, 1219, 68...</td>\n",
       "    </tr>\n",
       "    <tr>\n",
       "      <th>608</th>\n",
       "      <td>609</td>\n",
       "      <td>[1150, 296, 318, 1, 590, 589, 288, 731, 292, 434]</td>\n",
       "    </tr>\n",
       "    <tr>\n",
       "      <th>609</th>\n",
       "      <td>610</td>\n",
       "      <td>[132422, 4226, 31364, 7981, 318, 1201, 26159, ...</td>\n",
       "    </tr>\n",
       "  </tbody>\n",
       "</table>\n",
       "<p>610 rows × 2 columns</p>\n",
       "</div>"
      ],
      "text/plain": [
       "     userId                                 recommended_movies\n",
       "0         1  [1222, 1617, 943, 1197, 923, 3062, 3740, 1219,...\n",
       "1         2  [318, 115713, 109487, 3578, 79132, 89774, 1317...\n",
       "2         3  [3703, 1093, 3210, 5181, 849, 2851, 72378, 331...\n",
       "3         4  [1279, 296, 2351, 2973, 1219, 912, 1704, 898, ...\n",
       "4         5   [296, 247, 364, 265, 34, 290, 36, 534, 594, 589]\n",
       "..      ...                                                ...\n",
       "605     606  [506, 1571, 1066, 33564, 318, 28, 2436, 4973, ...\n",
       "606     607  [110, 1249, 1374, 1954, 457, 2762, 1304, 1258,...\n",
       "607     608  [430, 8132, 4226, 527, 50, 593, 1261, 1219, 68...\n",
       "608     609  [1150, 296, 318, 1, 590, 589, 288, 731, 292, 434]\n",
       "609     610  [132422, 4226, 31364, 7981, 318, 1201, 26159, ...\n",
       "\n",
       "[610 rows x 2 columns]"
      ]
     },
     "execution_count": 6,
     "metadata": {},
     "output_type": "execute_result"
    }
   ],
   "source": [
    "algo = surprise.prediction_algorithms.knns.KNNBaseline()\n",
    "algo.fit(trainset)\n",
    "knn_test = algo.test(testset)\n",
    "knn_test = pd.DataFrame(knn_test)\n",
    "knn_test.drop(\"details\", inplace=True, axis=1)\n",
    "knn_test.columns = ['userId', 'movieId', 'actual', 'cf_predictions']\n",
    "knn_model = knn_test.pivot_table(index='userId', columns='movieId', values='cf_predictions').fillna(0)\n",
    "\n",
    "knn_test = knn_test.copy().groupby('userId', as_index=False)['movieId'].agg({'actual': (lambda x: list(set(x)))})\n",
    "knn_test = knn_test.set_index(\"userId\")\n",
    "\n",
    "knn_recs = []\n",
    "for user in knn_test.index:\n",
    "    knn_predictions = get_users_predictions(user, 10, knn_model\n",
    ")\n",
    "    knn_recs.append(knn_predictions)\n",
    "        \n",
    "knn_test['recommended_movies'] = knn_recs\n",
    "knn_recommendations = knn_test.reset_index().drop(columns='actual')\n",
    "\n",
    "knn_recommendations.to_csv('Small/recommendations/knn.csv')\n",
    "knn_recommendations"
   ]
  },
  {
   "cell_type": "code",
   "execution_count": 9,
   "metadata": {},
   "outputs": [
    {
     "data": {
      "text/plain": [
       "[1222, 1617, 943, 1197, 923, 3062, 3740, 1219, 2959, 1198]"
      ]
     },
     "execution_count": 9,
     "metadata": {},
     "output_type": "execute_result"
    }
   ],
   "source": [
    "knn_recommendations['recommended_movies'][0]"
   ]
  }
 ],
 "metadata": {
  "kernelspec": {
   "display_name": "ml",
   "language": "python",
   "name": "python3"
  },
  "language_info": {
   "codemirror_mode": {
    "name": "ipython",
    "version": 3
   },
   "file_extension": ".py",
   "mimetype": "text/x-python",
   "name": "python",
   "nbconvert_exporter": "python",
   "pygments_lexer": "ipython3",
   "version": "3.10.10"
  },
  "orig_nbformat": 4
 },
 "nbformat": 4,
 "nbformat_minor": 2
}
