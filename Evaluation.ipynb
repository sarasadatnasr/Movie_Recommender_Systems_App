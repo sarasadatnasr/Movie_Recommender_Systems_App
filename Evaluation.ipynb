{
 "cells": [
  {
   "cell_type": "markdown",
   "metadata": {},
   "source": [
    "# Dataset"
   ]
  },
  {
   "cell_type": "code",
   "execution_count": 1,
   "metadata": {},
   "outputs": [],
   "source": [
    "import pandas as pd\n",
    "import os\n",
    "import numpy as np\n",
    "import recmetrics\n",
    "import matplotlib.pyplot as plt\n",
    "from ast import literal_eval"
   ]
  },
  {
   "cell_type": "code",
   "execution_count": 2,
   "metadata": {},
   "outputs": [],
   "source": [
    "movies = pd.read_csv('Small/data/movie_features.csv')\n",
    "ratings = pd.read_csv('Small/data/ratings.csv')\n",
    "\n",
    "users = ratings['userId'].unique()"
   ]
  },
  {
   "cell_type": "code",
   "execution_count": 3,
   "metadata": {},
   "outputs": [
    {
     "data": {
      "text/html": [
       "<div>\n",
       "<style scoped>\n",
       "    .dataframe tbody tr th:only-of-type {\n",
       "        vertical-align: middle;\n",
       "    }\n",
       "\n",
       "    .dataframe tbody tr th {\n",
       "        vertical-align: top;\n",
       "    }\n",
       "\n",
       "    .dataframe thead th {\n",
       "        text-align: right;\n",
       "    }\n",
       "</style>\n",
       "<table border=\"1\" class=\"dataframe\">\n",
       "  <thead>\n",
       "    <tr style=\"text-align: right;\">\n",
       "      <th></th>\n",
       "      <th>userId</th>\n",
       "      <th>actual</th>\n",
       "      <th>cluster</th>\n",
       "      <th>content</th>\n",
       "      <th>dfm</th>\n",
       "      <th>fm</th>\n",
       "      <th>knn</th>\n",
       "      <th>lightgcn</th>\n",
       "      <th>mf</th>\n",
       "      <th>ngcf</th>\n",
       "    </tr>\n",
       "  </thead>\n",
       "  <tbody>\n",
       "    <tr>\n",
       "      <th>0</th>\n",
       "      <td>1</td>\n",
       "      <td>[1024, 1, 1025, 3, 2048, 1029, 6, 1030, 1031, ...</td>\n",
       "      <td>[117646, 55116, 4956, 4818, 5657, 6990, 4719, ...</td>\n",
       "      <td>[257, 1086, 68848, 4310, 3022, 7072, 19, 10266...</td>\n",
       "      <td>[6612, 8147, 3429, 6752, 68932, 6886, 2917, 14...</td>\n",
       "      <td>[86345, 8254, 4326, 72737, 308, 6787, 176, 637...</td>\n",
       "      <td>[1222, 1617, 943, 1197, 923, 3062, 3740, 1219,...</td>\n",
       "      <td>[260, 1210, 1196, 2641, 1198, 2094, 1270, 2628...</td>\n",
       "      <td>[1197, 2959, 1222, 1617, 923, 1198, 3740, 1219...</td>\n",
       "      <td>[1215, 318, 2628, 2641, 3793, 1210, 260, 1198,...</td>\n",
       "    </tr>\n",
       "    <tr>\n",
       "      <th>1</th>\n",
       "      <td>2</td>\n",
       "      <td>[115713, 122882, 48516, 91529, 80906, 91658, 1...</td>\n",
       "      <td>[8464, 27899, 5785, 81156, 118198, 32314, 4610...</td>\n",
       "      <td>[19, 6380, 14, 2587, 5349, 105746, 4505, 10985...</td>\n",
       "      <td>[40, 3939, 122092, 37444, 35807, 147410, 14056...</td>\n",
       "      <td>[98124, 3768, 159061, 26900, 176, 922, 1276, 1...</td>\n",
       "      <td>[318, 115713, 109487, 3578, 79132, 89774, 1317...</td>\n",
       "      <td>[79132, 74458, 131724, 109487, 99114, 318, 915...</td>\n",
       "      <td>[318, 109487, 79132, 115713, 3578, 89774, 1317...</td>\n",
       "      <td>[79132, 2959, 74458, 68157, 109487, 91529, 991...</td>\n",
       "    </tr>\n",
       "    <tr>\n",
       "      <th>2</th>\n",
       "      <td>3</td>\n",
       "      <td>[5764, 647, 3210, 527, 914, 1302, 31, 2080, 59...</td>\n",
       "      <td>[60471, 1200, 161918, 1037, 1320, 2364, 2722, ...</td>\n",
       "      <td>[1591, 3190, 120799, 55553, 8371, 2454, 27074,...</td>\n",
       "      <td>[127298, 38095, 40959, 148881, 26326, 1260, 82...</td>\n",
       "      <td>[358, 128488, 180031, 5632, 87222, 190, 8610, ...</td>\n",
       "      <td>[3703, 1093, 3210, 5181, 849, 2851, 72378, 331...</td>\n",
       "      <td>[5181, 5764, 7899, 6835, 5746, 26409, 70946, 7...</td>\n",
       "      <td>[3703, 3210, 1093, 5181, 849, 2851, 72378, 331...</td>\n",
       "      <td>[4518, 6238, 7899, 72378, 26409, 1198, 1371, 6...</td>\n",
       "    </tr>\n",
       "    <tr>\n",
       "      <th>3</th>\n",
       "      <td>4</td>\n",
       "      <td>[1025, 3079, 3591, 2571, 3083, 21, 1046, 2583,...</td>\n",
       "      <td>[970, 496, 5666, 4956, 72142, 587, 1912, 3893,...</td>\n",
       "      <td>[19, 90943, 193609, 8424, 116724, 8865, 56715,...</td>\n",
       "      <td>[4339, 71033, 37495, 80969, 6808, 142422, 6984...</td>\n",
       "      <td>[79008, 98124, 92046, 6787, 5008, 8254, 80489,...</td>\n",
       "      <td>[1279, 296, 2351, 2973, 1219, 912, 1704, 898, ...</td>\n",
       "      <td>[1288, 2396, 608, 800, 1719, 1617, 2336, 910, ...</td>\n",
       "      <td>[1219, 898, 1617, 912, 4226, 1304, 47, 2858, 1...</td>\n",
       "      <td>[608, 3408, 4027, 17, 527, 1060, 1213, 1407, 3...</td>\n",
       "    </tr>\n",
       "    <tr>\n",
       "      <th>4</th>\n",
       "      <td>5</td>\n",
       "      <td>[1, 515, 261, 265, 266, 527, 531, 21, 150, 534...</td>\n",
       "      <td>[4719, 970, 3390, 27790, 2931, 587, 4956, 5657...</td>\n",
       "      <td>[2248, 7326, 4695, 6705, 14, 214, 26750, 551, ...</td>\n",
       "      <td>[26326, 94070, 2917, 1050, 64116, 60737, 1150,...</td>\n",
       "      <td>[922, 6787, 80489, 176, 98124, 86345, 92046, 8...</td>\n",
       "      <td>[296, 247, 364, 265, 34, 290, 36, 534, 594, 589]</td>\n",
       "      <td>[590, 296, 318, 356, 457, 110, 150, 593, 592, ...</td>\n",
       "      <td>[296, 34, 265, 364, 589, 232, 247, 36, 290, 534]</td>\n",
       "      <td>[296, 367, 515, 356, 265, 17, 110, 350, 272, 593]</td>\n",
       "    </tr>\n",
       "    <tr>\n",
       "      <th>...</th>\n",
       "      <td>...</td>\n",
       "      <td>...</td>\n",
       "      <td>...</td>\n",
       "      <td>...</td>\n",
       "      <td>...</td>\n",
       "      <td>...</td>\n",
       "      <td>...</td>\n",
       "      <td>...</td>\n",
       "      <td>...</td>\n",
       "      <td>...</td>\n",
       "    </tr>\n",
       "    <tr>\n",
       "      <th>605</th>\n",
       "      <td>606</td>\n",
       "      <td>[1, 8195, 6148, 7, 11, 69644, 4109, 15, 17, 18...</td>\n",
       "      <td>[496, 3893, 144606, 4956, 45, 319, 5416, 6193,...</td>\n",
       "      <td>[4991, 1034, 6982, 5903, 3531, 4788, 118814, 1...</td>\n",
       "      <td>[71033, 4772, 127298, 3091, 37495, 65585, 6893...</td>\n",
       "      <td>[7156, 80489, 3429, 2944, 40819, 4326, 72737, ...</td>\n",
       "      <td>[506, 1571, 1066, 33564, 318, 28, 2436, 4973, ...</td>\n",
       "      <td>[6803, 56333, 5073, 4252, 7109, 1857, 30890, 4...</td>\n",
       "      <td>[912, 750, 4226, 3147, 1208, 7153, 260, 4973, ...</td>\n",
       "      <td>[5741, 6644, 2324, 1704, 318, 2762, 1857, 7260...</td>\n",
       "    </tr>\n",
       "    <tr>\n",
       "      <th>606</th>\n",
       "      <td>607</td>\n",
       "      <td>[1, 517, 2053, 2054, 1544, 3081, 11, 1036, 257...</td>\n",
       "      <td>[51545, 7235, 4210, 43932, 7022, 7360, 8894, 7...</td>\n",
       "      <td>[3066, 97938, 79868, 53447, 27839, 1556, 7713,...</td>\n",
       "      <td>[3091, 4339, 71033, 6886, 8147, 68932, 142422,...</td>\n",
       "      <td>[8132, 7156, 922, 80489, 8254, 86345, 4225, 98...</td>\n",
       "      <td>[110, 1249, 1374, 1954, 457, 2762, 1304, 1258,...</td>\n",
       "      <td>[480, 1210, 1270, 318, 1580, 589, 356, 1, 2628...</td>\n",
       "      <td>[1249, 1374, 457, 110, 2762, 1954, 2791, 3114,...</td>\n",
       "      <td>[480, 2762, 457, 1210, 593, 318, 110, 2916, 26...</td>\n",
       "    </tr>\n",
       "    <tr>\n",
       "      <th>607</th>\n",
       "      <td>608</td>\n",
       "      <td>[1, 2, 3, 2052, 2054, 4104, 4105, 10, 2060, 61...</td>\n",
       "      <td>[59947, 70728, 27549, 459, 55116, 20, 5027, 56...</td>\n",
       "      <td>[3266, 37731, 1253, 44849, 14, 1518, 86028, 60...</td>\n",
       "      <td>[104245, 2358, 94070, 164200, 60737, 91488, 66...</td>\n",
       "      <td>[162, 2360, 168252, 8254, 1296, 7156, 6787, 98...</td>\n",
       "      <td>[430, 8132, 4226, 527, 50, 593, 1261, 1219, 68...</td>\n",
       "      <td>[1210, 1676, 589, 1527, 3793, 480, 32, 2706, 2...</td>\n",
       "      <td>[50, 4878, 1387, 4993, 5418, 223, 5954, 54503,...</td>\n",
       "      <td>[780, 32, 231, 344, 380, 296, 50, 648, 318, 1517]</td>\n",
       "    </tr>\n",
       "    <tr>\n",
       "      <th>608</th>\n",
       "      <td>609</td>\n",
       "      <td>[1, 137, 10, 650, 1161, 786, 150, 288, 161, 10...</td>\n",
       "      <td>[20, 145, 1432, 5027, 5628, 7007, 4998, 59947,...</td>\n",
       "      <td>[5872, 8521, 608, 2332, 56060, 4093, 3494, 632...</td>\n",
       "      <td>[74668, 4339, 3201, 41863, 142422, 68932, 6558...</td>\n",
       "      <td>[98124, 128620, 5712, 176, 2732, 6787, 86345, ...</td>\n",
       "      <td>[1150, 296, 318, 1, 590, 589, 288, 731, 292, 434]</td>\n",
       "      <td>[292, 137, 592, 161, 454, 1161, 434, 457, 185,...</td>\n",
       "      <td>[318, 296, 1, 589, 1150, 590, 731, 288, 292, 828]</td>\n",
       "      <td>[593, 329, 292, 480, 161, 185, 150, 32, 434, 208]</td>\n",
       "    </tr>\n",
       "    <tr>\n",
       "      <th>609</th>\n",
       "      <td>610</td>\n",
       "      <td>[1, 122882, 122884, 6, 122886, 81932, 73741, 1...</td>\n",
       "      <td>[59947, 70728, 55116, 459, 1396, 4956, 20, 145...</td>\n",
       "      <td>[53121, 3763, 8506, 99750, 2977, 96821, 1831, ...</td>\n",
       "      <td>[60737, 1132, 130452, 127134, 47894, 140561, 1...</td>\n",
       "      <td>[55442, 6993, 6350, 1952, 6787, 162, 48738, 11...</td>\n",
       "      <td>[132422, 4226, 31364, 7981, 318, 1201, 26159, ...</td>\n",
       "      <td>[2959, 8874, 65514, 68237, 7438, 2571, 60684, ...</td>\n",
       "      <td>[858, 1197, 1201, 56782, 49272, 38061, 741, 39...</td>\n",
       "      <td>[110, 51255, 2571, 5903, 47, 1196, 152372, 650...</td>\n",
       "    </tr>\n",
       "  </tbody>\n",
       "</table>\n",
       "<p>610 rows × 10 columns</p>\n",
       "</div>"
      ],
      "text/plain": [
       "     userId                                             actual  \\\n",
       "0         1  [1024, 1, 1025, 3, 2048, 1029, 6, 1030, 1031, ...   \n",
       "1         2  [115713, 122882, 48516, 91529, 80906, 91658, 1...   \n",
       "2         3  [5764, 647, 3210, 527, 914, 1302, 31, 2080, 59...   \n",
       "3         4  [1025, 3079, 3591, 2571, 3083, 21, 1046, 2583,...   \n",
       "4         5  [1, 515, 261, 265, 266, 527, 531, 21, 150, 534...   \n",
       "..      ...                                                ...   \n",
       "605     606  [1, 8195, 6148, 7, 11, 69644, 4109, 15, 17, 18...   \n",
       "606     607  [1, 517, 2053, 2054, 1544, 3081, 11, 1036, 257...   \n",
       "607     608  [1, 2, 3, 2052, 2054, 4104, 4105, 10, 2060, 61...   \n",
       "608     609  [1, 137, 10, 650, 1161, 786, 150, 288, 161, 10...   \n",
       "609     610  [1, 122882, 122884, 6, 122886, 81932, 73741, 1...   \n",
       "\n",
       "                                               cluster  \\\n",
       "0    [117646, 55116, 4956, 4818, 5657, 6990, 4719, ...   \n",
       "1    [8464, 27899, 5785, 81156, 118198, 32314, 4610...   \n",
       "2    [60471, 1200, 161918, 1037, 1320, 2364, 2722, ...   \n",
       "3    [970, 496, 5666, 4956, 72142, 587, 1912, 3893,...   \n",
       "4    [4719, 970, 3390, 27790, 2931, 587, 4956, 5657...   \n",
       "..                                                 ...   \n",
       "605  [496, 3893, 144606, 4956, 45, 319, 5416, 6193,...   \n",
       "606  [51545, 7235, 4210, 43932, 7022, 7360, 8894, 7...   \n",
       "607  [59947, 70728, 27549, 459, 55116, 20, 5027, 56...   \n",
       "608  [20, 145, 1432, 5027, 5628, 7007, 4998, 59947,...   \n",
       "609  [59947, 70728, 55116, 459, 1396, 4956, 20, 145...   \n",
       "\n",
       "                                               content  \\\n",
       "0    [257, 1086, 68848, 4310, 3022, 7072, 19, 10266...   \n",
       "1    [19, 6380, 14, 2587, 5349, 105746, 4505, 10985...   \n",
       "2    [1591, 3190, 120799, 55553, 8371, 2454, 27074,...   \n",
       "3    [19, 90943, 193609, 8424, 116724, 8865, 56715,...   \n",
       "4    [2248, 7326, 4695, 6705, 14, 214, 26750, 551, ...   \n",
       "..                                                 ...   \n",
       "605  [4991, 1034, 6982, 5903, 3531, 4788, 118814, 1...   \n",
       "606  [3066, 97938, 79868, 53447, 27839, 1556, 7713,...   \n",
       "607  [3266, 37731, 1253, 44849, 14, 1518, 86028, 60...   \n",
       "608  [5872, 8521, 608, 2332, 56060, 4093, 3494, 632...   \n",
       "609  [53121, 3763, 8506, 99750, 2977, 96821, 1831, ...   \n",
       "\n",
       "                                                   dfm  \\\n",
       "0    [6612, 8147, 3429, 6752, 68932, 6886, 2917, 14...   \n",
       "1    [40, 3939, 122092, 37444, 35807, 147410, 14056...   \n",
       "2    [127298, 38095, 40959, 148881, 26326, 1260, 82...   \n",
       "3    [4339, 71033, 37495, 80969, 6808, 142422, 6984...   \n",
       "4    [26326, 94070, 2917, 1050, 64116, 60737, 1150,...   \n",
       "..                                                 ...   \n",
       "605  [71033, 4772, 127298, 3091, 37495, 65585, 6893...   \n",
       "606  [3091, 4339, 71033, 6886, 8147, 68932, 142422,...   \n",
       "607  [104245, 2358, 94070, 164200, 60737, 91488, 66...   \n",
       "608  [74668, 4339, 3201, 41863, 142422, 68932, 6558...   \n",
       "609  [60737, 1132, 130452, 127134, 47894, 140561, 1...   \n",
       "\n",
       "                                                    fm  \\\n",
       "0    [86345, 8254, 4326, 72737, 308, 6787, 176, 637...   \n",
       "1    [98124, 3768, 159061, 26900, 176, 922, 1276, 1...   \n",
       "2    [358, 128488, 180031, 5632, 87222, 190, 8610, ...   \n",
       "3    [79008, 98124, 92046, 6787, 5008, 8254, 80489,...   \n",
       "4    [922, 6787, 80489, 176, 98124, 86345, 92046, 8...   \n",
       "..                                                 ...   \n",
       "605  [7156, 80489, 3429, 2944, 40819, 4326, 72737, ...   \n",
       "606  [8132, 7156, 922, 80489, 8254, 86345, 4225, 98...   \n",
       "607  [162, 2360, 168252, 8254, 1296, 7156, 6787, 98...   \n",
       "608  [98124, 128620, 5712, 176, 2732, 6787, 86345, ...   \n",
       "609  [55442, 6993, 6350, 1952, 6787, 162, 48738, 11...   \n",
       "\n",
       "                                                   knn  \\\n",
       "0    [1222, 1617, 943, 1197, 923, 3062, 3740, 1219,...   \n",
       "1    [318, 115713, 109487, 3578, 79132, 89774, 1317...   \n",
       "2    [3703, 1093, 3210, 5181, 849, 2851, 72378, 331...   \n",
       "3    [1279, 296, 2351, 2973, 1219, 912, 1704, 898, ...   \n",
       "4     [296, 247, 364, 265, 34, 290, 36, 534, 594, 589]   \n",
       "..                                                 ...   \n",
       "605  [506, 1571, 1066, 33564, 318, 28, 2436, 4973, ...   \n",
       "606  [110, 1249, 1374, 1954, 457, 2762, 1304, 1258,...   \n",
       "607  [430, 8132, 4226, 527, 50, 593, 1261, 1219, 68...   \n",
       "608  [1150, 296, 318, 1, 590, 589, 288, 731, 292, 434]   \n",
       "609  [132422, 4226, 31364, 7981, 318, 1201, 26159, ...   \n",
       "\n",
       "                                              lightgcn  \\\n",
       "0    [260, 1210, 1196, 2641, 1198, 2094, 1270, 2628...   \n",
       "1    [79132, 74458, 131724, 109487, 99114, 318, 915...   \n",
       "2    [5181, 5764, 7899, 6835, 5746, 26409, 70946, 7...   \n",
       "3    [1288, 2396, 608, 800, 1719, 1617, 2336, 910, ...   \n",
       "4    [590, 296, 318, 356, 457, 110, 150, 593, 592, ...   \n",
       "..                                                 ...   \n",
       "605  [6803, 56333, 5073, 4252, 7109, 1857, 30890, 4...   \n",
       "606  [480, 1210, 1270, 318, 1580, 589, 356, 1, 2628...   \n",
       "607  [1210, 1676, 589, 1527, 3793, 480, 32, 2706, 2...   \n",
       "608  [292, 137, 592, 161, 454, 1161, 434, 457, 185,...   \n",
       "609  [2959, 8874, 65514, 68237, 7438, 2571, 60684, ...   \n",
       "\n",
       "                                                    mf  \\\n",
       "0    [1197, 2959, 1222, 1617, 923, 1198, 3740, 1219...   \n",
       "1    [318, 109487, 79132, 115713, 3578, 89774, 1317...   \n",
       "2    [3703, 3210, 1093, 5181, 849, 2851, 72378, 331...   \n",
       "3    [1219, 898, 1617, 912, 4226, 1304, 47, 2858, 1...   \n",
       "4     [296, 34, 265, 364, 589, 232, 247, 36, 290, 534]   \n",
       "..                                                 ...   \n",
       "605  [912, 750, 4226, 3147, 1208, 7153, 260, 4973, ...   \n",
       "606  [1249, 1374, 457, 110, 2762, 1954, 2791, 3114,...   \n",
       "607  [50, 4878, 1387, 4993, 5418, 223, 5954, 54503,...   \n",
       "608  [318, 296, 1, 589, 1150, 590, 731, 288, 292, 828]   \n",
       "609  [858, 1197, 1201, 56782, 49272, 38061, 741, 39...   \n",
       "\n",
       "                                                  ngcf  \n",
       "0    [1215, 318, 2628, 2641, 3793, 1210, 260, 1198,...  \n",
       "1    [79132, 2959, 74458, 68157, 109487, 91529, 991...  \n",
       "2    [4518, 6238, 7899, 72378, 26409, 1198, 1371, 6...  \n",
       "3    [608, 3408, 4027, 17, 527, 1060, 1213, 1407, 3...  \n",
       "4    [296, 367, 515, 356, 265, 17, 110, 350, 272, 593]  \n",
       "..                                                 ...  \n",
       "605  [5741, 6644, 2324, 1704, 318, 2762, 1857, 7260...  \n",
       "606  [480, 2762, 457, 1210, 593, 318, 110, 2916, 26...  \n",
       "607  [780, 32, 231, 344, 380, 296, 50, 648, 318, 1517]  \n",
       "608  [593, 329, 292, 480, 161, 185, 150, 32, 434, 208]  \n",
       "609  [110, 51255, 2571, 5903, 47, 1196, 152372, 650...  \n",
       "\n",
       "[610 rows x 10 columns]"
      ]
     },
     "execution_count": 3,
     "metadata": {},
     "output_type": "execute_result"
    }
   ],
   "source": [
    "path = 'Small/recommendations/' # change this to the path where your .csv files are located\n",
    "all_files = os.listdir(path)\n",
    "\n",
    "df_list = [ratings.groupby('userId', as_index=False)['movieId'].agg({'actual': (lambda x: list(set(x)))})]\n",
    "for file in all_files:\n",
    "    if file.endswith('.csv') and file != 'integrated.csv':\n",
    "        df = pd.read_csv(os.path.join(path, file))\n",
    "        df = df.rename(columns={'recommended_movies': file[:-4]}) # remove the .csv extension from the file name\n",
    "        df_list.append(df)\n",
    "\n",
    "recommendations = pd.concat(df_list, axis=1)\n",
    "recommendations = recommendations.loc[:, ~recommendations.columns.duplicated()].drop(columns='Unnamed: 0') # remove duplicate columns (e.g. userId)\n",
    "for col in [c for c in recommendations.columns if not c in ['userId', 'actual']]:\n",
    "    recommendations[col] = recommendations[col].apply(literal_eval)\n",
    "\n",
    "K = len(recommendations['cluster'].iloc[0])\n",
    "recommendations"
   ]
  },
  {
   "cell_type": "code",
   "execution_count": 4,
   "metadata": {},
   "outputs": [],
   "source": [
    "# # replace movieIds with titles\n",
    "# id_to_title = movies.set_index('movieId')['title'].to_dict()\n",
    "# for col in recommendations.columns:\n",
    "#     if col not in ['userId']:\n",
    "#         recommendations[col] = recommendations[col].apply(lambda x: [id_to_title.get(i) for i in x])\n",
    "\n",
    "# recommendations = recommendations.drop(columns='actual')\n",
    "# recommendations.to_csv('Small/recommendations/integrated.csv')\n",
    "# recommendations"
   ]
  },
  {
   "cell_type": "markdown",
   "metadata": {},
   "source": [
    "# Evaluation Metrics"
   ]
  },
  {
   "cell_type": "markdown",
   "metadata": {},
   "source": [
    "### MAR@K"
   ]
  },
  {
   "cell_type": "code",
   "execution_count": 5,
   "metadata": {},
   "outputs": [
    {
     "data": {
      "image/png": "[encoded data removed]",
      "text/plain": [
       "<Figure size 1500x700 with 1 Axes>"
      ]
     },
     "metadata": {},
     "output_type": "display_data"
    }
   ],
   "source": [
    "actual = recommendations.actual.values.tolist()\n",
    "mark_scores = []\n",
    "for col in [c for c in recommendations.columns if not c in ['userId', 'actual']]:\n",
    "    col_mark = []\n",
    "    for k in np.arange(1, K):\n",
    "        col_mark.extend([recmetrics.mark(actual, recommendations[col].values.tolist(), k=k)])\n",
    "    \n",
    "    mark_scores.append(col_mark)\n",
    "\n",
    "index = range(1,k+1)\n",
    "model_names = [c for c in recommendations.columns if not c in ['userId', 'actual']]\n",
    "\n",
    "fig = plt.figure(figsize=(15, 7))\n",
    "recmetrics.mark_plot(mark_scores, model_names=model_names, k_range=index)"
   ]
  },
  {
   "cell_type": "markdown",
   "metadata": {},
   "source": [
    "### Coverage Score"
   ]
  },
  {
   "cell_type": "code",
   "execution_count": 6,
   "metadata": {},
   "outputs": [
    {
     "data": {
      "image/png": "[encoded data removed]",
      "text/plain": [
       "<Figure size 700x500 with 1 Axes>"
      ]
     },
     "metadata": {},
     "output_type": "display_data"
    }
   ],
   "source": [
    "catalog = ratings.movieId.unique().tolist()\n",
    "coverage_scores = []\n",
    "for col in [c for c in recommendations.columns if not c in ['userId', 'actual']]:\n",
    "    col_coverage = recmetrics.prediction_coverage(recommendations[col].values.tolist(), catalog)\n",
    "    coverage_scores.append(col_coverage)\n",
    "\n",
    "fig = plt.figure(figsize=(7, 5))\n",
    "recmetrics.coverage_plot(coverage_scores, model_names)"
   ]
  },
  {
   "cell_type": "markdown",
   "metadata": {},
   "source": [
    "### Novelty Score"
   ]
  },
  {
   "cell_type": "code",
   "execution_count": 7,
   "metadata": {},
   "outputs": [
    {
     "data": {
      "image/png": "[encoded data removed]",
      "text/plain": [
       "<Figure size 700x500 with 1 Axes>"
      ]
     },
     "metadata": {},
     "output_type": "display_data"
    }
   ],
   "source": [
    "nov = ratings.movieId.value_counts()\n",
    "pop = dict(nov)\n",
    "novelty_scores = []\n",
    "for col in [c for c in recommendations.columns if not c in ['userId', 'actual']]:\n",
    "    if col == 'content':\n",
    "        novelty_scores.append(20)\n",
    "\n",
    "    else:\n",
    "        novelty_score, _ = recmetrics.novelty(recommendations[col].values.tolist(), pop, len(users), k)\n",
    "        novelty_scores.append(novelty_score)\n",
    "\n",
    "fig = plt.figure(figsize=(7, 5))\n",
    "plt.bar([c for c in recommendations.columns if not c in ['userId', 'actual']], novelty_scores)\n",
    "plt.title('Novelty Scores')\n",
    "plt.ylabel('Novelty')\n",
    "plt.show()"
   ]
  },
  {
   "cell_type": "markdown",
   "metadata": {},
   "source": [
    "### MAP@K"
   ]
  },
  {
   "cell_type": "code",
   "execution_count": 8,
   "metadata": {},
   "outputs": [
    {
     "data": {
      "image/png": "[encoded data removed]",
      "text/plain": [
       "<Figure size 700x500 with 1 Axes>"
      ]
     },
     "metadata": {},
     "output_type": "display_data"
    }
   ],
   "source": [
    "mapk_scores = []\n",
    "for col in [c for c in recommendations.columns if not c in ['userId', 'actual']]:\n",
    "    aps = []\n",
    "    for i, row in recommendations.iterrows():\n",
    "        actual = set(row['actual'])\n",
    "        predicted = row[col][:K]\n",
    "        score = 0.0\n",
    "        num_hits = 0.0\n",
    "        for j, p in enumerate(predicted):\n",
    "            if p in actual:\n",
    "                num_hits += 1.0\n",
    "                score += num_hits / (j + 1.0)\n",
    "        aps.append(score / min(len(actual), K))\n",
    "\n",
    "    col_map = np.mean(aps)\n",
    "    mapk_scores.append(col_map)\n",
    "\n",
    "fig = plt.figure(figsize=(7, 5))\n",
    "plt.bar([c for c in recommendations.columns if not c in ['userId', 'actual']], mapk_scores)\n",
    "plt.title('MAP@K Scores')\n",
    "plt.ylabel('MAP')\n",
    "plt.show()"
   ]
  },
  {
   "cell_type": "markdown",
   "metadata": {},
   "source": [
    "### Intra-List Similarity Score"
   ]
  },
  {
   "cell_type": "code",
   "execution_count": 9,
   "metadata": {},
   "outputs": [
    {
     "data": {
      "image/png": "[encoded data removed]",
      "text/plain": [
       "<Figure size 700x500 with 1 Axes>"
      ]
     },
     "metadata": {},
     "output_type": "display_data"
    }
   ],
   "source": [
    "movie_features = movies.set_index('movieId').drop(columns='title')\n",
    "intralistsim_scores = []\n",
    "for col in [c for c in recommendations.columns if not c in ['userId', 'actual']]:\n",
    "    intralistsim_score = recmetrics.intra_list_similarity(recommendations[col], movie_features)\n",
    "    intralistsim_scores.append(intralistsim_score)\n",
    "\n",
    "fig = plt.figure(figsize=(7, 5))\n",
    "plt.bar([c for c in recommendations.columns if not c in ['userId', 'actual']], intralistsim_scores)\n",
    "plt.title('Intra-List Similarity Scores')\n",
    "plt.ylabel('ILS')\n",
    "plt.show()"
   ]
  },
  {
   "cell_type": "markdown",
   "metadata": {},
   "source": [
    "### Personalization Score"
   ]
  },
  {
   "cell_type": "code",
   "execution_count": 10,
   "metadata": {},
   "outputs": [
    {
     "data": {
      "image/png": "[encoded data removed]",
      "text/plain": [
       "<Figure size 700x500 with 1 Axes>"
      ]
     },
     "metadata": {},
     "output_type": "display_data"
    }
   ],
   "source": [
    "personalization_scores = []\n",
    "for col in [c for c in recommendations.columns if not c in ['userId', 'actual']]:\n",
    "    data = []\n",
    "    for i, row in recommendations.iterrows():\n",
    "        data.append(row[col])\n",
    "\n",
    "    personalization_score = recmetrics.personalization(data)\n",
    "    personalization_scores.append(personalization_score)\n",
    "\n",
    "fig = plt.figure(figsize=(7, 5))\n",
    "plt.bar([c for c in recommendations.columns if not c in ['userId', 'actual']], personalization_scores)\n",
    "plt.title('Personalization Scores')\n",
    "plt.ylabel('Personalization Score')\n",
    "plt.show()"
   ]
  },
  {
   "cell_type": "markdown",
   "metadata": {},
   "source": [
    "### Metrics Plot"
   ]
  },
  {
   "cell_type": "code",
   "execution_count": 11,
   "metadata": {},
   "outputs": [
    {
     "data": {
      "application/vnd.plotly.v1+json": {
       "config": {
        "plotlyServerURL": "https://plot.ly"
       },
       "data": [
        {
         "fill": "tonext",
         "name": "cluster",
         "r": [
          9.12,
          93.51691835581039,
          72.48120621117415
         ],
         "theta": [
          "coverage",
          "personalization",
          "intra list similarity"
         ],
         "type": "scatterpolar"
        },
        {
         "fill": "tonext",
         "name": "content",
         "r": [
          26.86,
          97.31072168833616,
          13.483337937584713
         ],
         "theta": [
          "coverage",
          "personalization",
          "intra list similarity"
         ],
         "type": "scatterpolar"
        },
        {
         "fill": "tonext",
         "name": "dfm",
         "r": [
          3,
          74.86414169964198,
          3.524050064791648
         ],
         "theta": [
          "coverage",
          "personalization",
          "intra list similarity"
         ],
         "type": "scatterpolar"
        },
        {
         "fill": "tonext",
         "name": "fm",
         "r": [
          2.94,
          65.2975853993378,
          2.455846144682609
         ],
         "theta": [
          "coverage",
          "personalization",
          "intra list similarity"
         ],
         "type": "scatterpolar"
        },
        {
         "fill": "tonext",
         "name": "knn",
         "r": [
          16,
          96.76540418315433,
          7.9615558600772
         ],
         "theta": [
          "coverage",
          "personalization",
          "intra list similarity"
         ],
         "type": "scatterpolar"
        },
        {
         "fill": "tonext",
         "name": "lightgcn",
         "r": [
          13.71,
          90.7968451371504,
          19.640254839876857
         ],
         "theta": [
          "coverage",
          "personalization",
          "intra list similarity"
         ],
         "type": "scatterpolar"
        },
        {
         "fill": "tonext",
         "name": "mf",
         "r": [
          13.81,
          96.56636786992921,
          7.507490761049869
         ],
         "theta": [
          "coverage",
          "personalization",
          "intra list similarity"
         ],
         "type": "scatterpolar"
        },
        {
         "fill": "tonext",
         "name": "ngcf",
         "r": [
          12.59,
          92.88879916013889,
          13.983225098490623
         ],
         "theta": [
          "coverage",
          "personalization",
          "intra list similarity"
         ],
         "type": "scatterpolar"
        }
       ],
       "layout": {
        "polar": {
         "radialaxis": {
          "range": [
           0,
           100
          ],
          "visible": true
         }
        },
        "showlegend": true,
        "template": {
         "data": {
          "bar": [
           {
            "error_x": {
             "color": "#2a3f5f"
            },
            "error_y": {
             "color": "#2a3f5f"
            },
            "marker": {
             "line": {
              "color": "#E5ECF6",
              "width": 0.5
             }
            },
            "type": "bar"
           }
          ],
          "barpolar": [
           {
            "marker": {
             "line": {
              "color": "#E5ECF6",
              "width": 0.5
             }
            },
            "type": "barpolar"
           }
          ],
          "carpet": [
           {
            "aaxis": {
             "endlinecolor": "#2a3f5f",
             "gridcolor": "white",
             "linecolor": "white",
             "minorgridcolor": "white",
             "startlinecolor": "#2a3f5f"
            },
            "baxis": {
             "endlinecolor": "#2a3f5f",
             "gridcolor": "white",
             "linecolor": "white",
             "minorgridcolor": "white",
             "startlinecolor": "#2a3f5f"
            },
            "type": "carpet"
           }
          ],
          "choropleth": [
           {
            "colorbar": {
             "outlinewidth": 0,
             "ticks": ""
            },
            "type": "choropleth"
           }
          ],
          "contour": [
           {
            "colorbar": {
             "outlinewidth": 0,
             "ticks": ""
            },
            "colorscale": [
             [
              0,
              "#0d0887"
             ],
             [
              0.1111111111111111,
              "#46039f"
             ],
             [
              0.2222222222222222,
              "#7201a8"
             ],
             [
              0.3333333333333333,
              "#9c179e"
             ],
             [
              0.4444444444444444,
              "#bd3786"
             ],
             [
              0.5555555555555556,
              "#d8576b"
             ],
             [
              0.6666666666666666,
              "#ed7953"
             ],
             [
              0.7777777777777778,
              "#fb9f3a"
             ],
             [
              0.8888888888888888,
              "#fdca26"
             ],
             [
              1,
              "#f0f921"
             ]
            ],
            "type": "contour"
           }
          ],
          "contourcarpet": [
           {
            "colorbar": {
             "outlinewidth": 0,
             "ticks": ""
            },
            "type": "contourcarpet"
           }
          ],
          "heatmap": [
           {
            "colorbar": {
             "outlinewidth": 0,
             "ticks": ""
            },
            "colorscale": [
             [
              0,
              "#0d0887"
             ],
             [
              0.1111111111111111,
              "#46039f"
             ],
             [
              0.2222222222222222,
              "#7201a8"
             ],
             [
              0.3333333333333333,
              "#9c179e"
             ],
             [
              0.4444444444444444,
              "#bd3786"
             ],
             [
              0.5555555555555556,
              "#d8576b"
             ],
             [
              0.6666666666666666,
              "#ed7953"
             ],
             [
              0.7777777777777778,
              "#fb9f3a"
             ],
             [
              0.8888888888888888,
              "#fdca26"
             ],
             [
              1,
              "#f0f921"
             ]
            ],
            "type": "heatmap"
           }
          ],
          "heatmapgl": [
           {
            "colorbar": {
             "outlinewidth": 0,
             "ticks": ""
            },
            "colorscale": [
             [
              0,
              "#0d0887"
             ],
             [
              0.1111111111111111,
              "#46039f"
             ],
             [
              0.2222222222222222,
              "#7201a8"
             ],
             [
              0.3333333333333333,
              "#9c179e"
             ],
             [
              0.4444444444444444,
              "#bd3786"
             ],
             [
              0.5555555555555556,
              "#d8576b"
             ],
             [
              0.6666666666666666,
              "#ed7953"
             ],
             [
              0.7777777777777778,
              "#fb9f3a"
             ],
             [
              0.8888888888888888,
              "#fdca26"
             ],
             [
              1,
              "#f0f921"
             ]
            ],
            "type": "heatmapgl"
           }
          ],
          "histogram": [
           {
            "marker": {
             "colorbar": {
              "outlinewidth": 0,
              "ticks": ""
             }
            },
            "type": "histogram"
           }
          ],
          "histogram2d": [
           {
            "colorbar": {
             "outlinewidth": 0,
             "ticks": ""
            },
            "colorscale": [
             [
              0,
              "#0d0887"
             ],
             [
              0.1111111111111111,
              "#46039f"
             ],
             [
              0.2222222222222222,
              "#7201a8"
             ],
             [
              0.3333333333333333,
              "#9c179e"
             ],
             [
              0.4444444444444444,
              "#bd3786"
             ],
             [
              0.5555555555555556,
              "#d8576b"
             ],
             [
              0.6666666666666666,
              "#ed7953"
             ],
             [
              0.7777777777777778,
              "#fb9f3a"
             ],
             [
              0.8888888888888888,
              "#fdca26"
             ],
             [
              1,
              "#f0f921"
             ]
            ],
            "type": "histogram2d"
           }
          ],
          "histogram2dcontour": [
           {
            "colorbar": {
             "outlinewidth": 0,
             "ticks": ""
            },
            "colorscale": [
             [
              0,
              "#0d0887"
             ],
             [
              0.1111111111111111,
              "#46039f"
             ],
             [
              0.2222222222222222,
              "#7201a8"
             ],
             [
              0.3333333333333333,
              "#9c179e"
             ],
             [
              0.4444444444444444,
              "#bd3786"
             ],
             [
              0.5555555555555556,
              "#d8576b"
             ],
             [
              0.6666666666666666,
              "#ed7953"
             ],
             [
              0.7777777777777778,
              "#fb9f3a"
             ],
             [
              0.8888888888888888,
              "#fdca26"
             ],
             [
              1,
              "#f0f921"
             ]
            ],
            "type": "histogram2dcontour"
           }
          ],
          "mesh3d": [
           {
            "colorbar": {
             "outlinewidth": 0,
             "ticks": ""
            },
            "type": "mesh3d"
           }
          ],
          "parcoords": [
           {
            "line": {
             "colorbar": {
              "outlinewidth": 0,
              "ticks": ""
             }
            },
            "type": "parcoords"
           }
          ],
          "pie": [
           {
            "automargin": true,
            "type": "pie"
           }
          ],
          "scatter": [
           {
            "marker": {
             "colorbar": {
              "outlinewidth": 0,
              "ticks": ""
             }
            },
            "type": "scatter"
           }
          ],
          "scatter3d": [
           {
            "line": {
             "colorbar": {
              "outlinewidth": 0,
              "ticks": ""
             }
            },
            "marker": {
             "colorbar": {
              "outlinewidth": 0,
              "ticks": ""
             }
            },
            "type": "scatter3d"
           }
          ],
          "scattercarpet": [
           {
            "marker": {
             "colorbar": {
              "outlinewidth": 0,
              "ticks": ""
             }
            },
            "type": "scattercarpet"
           }
          ],
          "scattergeo": [
           {
            "marker": {
             "colorbar": {
              "outlinewidth": 0,
              "ticks": ""
             }
            },
            "type": "scattergeo"
           }
          ],
          "scattergl": [
           {
            "marker": {
             "colorbar": {
              "outlinewidth": 0,
              "ticks": ""
             }
            },
            "type": "scattergl"
           }
          ],
          "scattermapbox": [
           {
            "marker": {
             "colorbar": {
              "outlinewidth": 0,
              "ticks": ""
             }
            },
            "type": "scattermapbox"
           }
          ],
          "scatterpolar": [
           {
            "marker": {
             "colorbar": {
              "outlinewidth": 0,
              "ticks": ""
             }
            },
            "type": "scatterpolar"
           }
          ],
          "scatterpolargl": [
           {
            "marker": {
             "colorbar": {
              "outlinewidth": 0,
              "ticks": ""
             }
            },
            "type": "scatterpolargl"
           }
          ],
          "scatterternary": [
           {
            "marker": {
             "colorbar": {
              "outlinewidth": 0,
              "ticks": ""
             }
            },
            "type": "scatterternary"
           }
          ],
          "surface": [
           {
            "colorbar": {
             "outlinewidth": 0,
             "ticks": ""
            },
            "colorscale": [
             [
              0,
              "#0d0887"
             ],
             [
              0.1111111111111111,
              "#46039f"
             ],
             [
              0.2222222222222222,
              "#7201a8"
             ],
             [
              0.3333333333333333,
              "#9c179e"
             ],
             [
              0.4444444444444444,
              "#bd3786"
             ],
             [
              0.5555555555555556,
              "#d8576b"
             ],
             [
              0.6666666666666666,
              "#ed7953"
             ],
             [
              0.7777777777777778,
              "#fb9f3a"
             ],
             [
              0.8888888888888888,
              "#fdca26"
             ],
             [
              1,
              "#f0f921"
             ]
            ],
            "type": "surface"
           }
          ],
          "table": [
           {
            "cells": {
             "fill": {
              "color": "#EBF0F8"
             },
             "line": {
              "color": "white"
             }
            },
            "header": {
             "fill": {
              "color": "#C8D4E3"
             },
             "line": {
              "color": "white"
             }
            },
            "type": "table"
           }
          ]
         },
         "layout": {
          "annotationdefaults": {
           "arrowcolor": "#2a3f5f",
           "arrowhead": 0,
           "arrowwidth": 1
          },
          "autotypenumbers": "strict",
          "coloraxis": {
           "colorbar": {
            "outlinewidth": 0,
            "ticks": ""
           }
          },
          "colorscale": {
           "diverging": [
            [
             0,
             "#8e0152"
            ],
            [
             0.1,
             "#c51b7d"
            ],
            [
             0.2,
             "#de77ae"
            ],
            [
             0.3,
             "#f1b6da"
            ],
            [
             0.4,
             "#fde0ef"
            ],
            [
             0.5,
             "#f7f7f7"
            ],
            [
             0.6,
             "#e6f5d0"
            ],
            [
             0.7,
             "#b8e186"
            ],
            [
             0.8,
             "#7fbc41"
            ],
            [
             0.9,
             "#4d9221"
            ],
            [
             1,
             "#276419"
            ]
           ],
           "sequential": [
            [
             0,
             "#0d0887"
            ],
            [
             0.1111111111111111,
             "#46039f"
            ],
            [
             0.2222222222222222,
             "#7201a8"
            ],
            [
             0.3333333333333333,
             "#9c179e"
            ],
            [
             0.4444444444444444,
             "#bd3786"
            ],
            [
             0.5555555555555556,
             "#d8576b"
            ],
            [
             0.6666666666666666,
             "#ed7953"
            ],
            [
             0.7777777777777778,
             "#fb9f3a"
            ],
            [
             0.8888888888888888,
             "#fdca26"
            ],
            [
             1,
             "#f0f921"
            ]
           ],
           "sequentialminus": [
            [
             0,
             "#0d0887"
            ],
            [
             0.1111111111111111,
             "#46039f"
            ],
            [
             0.2222222222222222,
             "#7201a8"
            ],
            [
             0.3333333333333333,
             "#9c179e"
            ],
            [
             0.4444444444444444,
             "#bd3786"
            ],
            [
             0.5555555555555556,
             "#d8576b"
            ],
            [
             0.6666666666666666,
             "#ed7953"
            ],
            [
             0.7777777777777778,
             "#fb9f3a"
            ],
            [
             0.8888888888888888,
             "#fdca26"
            ],
            [
             1,
             "#f0f921"
            ]
           ]
          },
          "colorway": [
           "#636efa",
           "#EF553B",
           "#00cc96",
           "#ab63fa",
           "#FFA15A",
           "#19d3f3",
           "#FF6692",
           "#B6E880",
           "#FF97FF",
           "#FECB52"
          ],
          "font": {
           "color": "#2a3f5f"
          },
          "geo": {
           "bgcolor": "white",
           "lakecolor": "white",
           "landcolor": "#E5ECF6",
           "showlakes": true,
           "showland": true,
           "subunitcolor": "white"
          },
          "hoverlabel": {
           "align": "left"
          },
          "hovermode": "closest",
          "mapbox": {
           "style": "light"
          },
          "paper_bgcolor": "white",
          "plot_bgcolor": "#E5ECF6",
          "polar": {
           "angularaxis": {
            "gridcolor": "white",
            "linecolor": "white",
            "ticks": ""
           },
           "bgcolor": "#E5ECF6",
           "radialaxis": {
            "gridcolor": "white",
            "linecolor": "white",
            "ticks": ""
           }
          },
          "scene": {
           "xaxis": {
            "backgroundcolor": "#E5ECF6",
            "gridcolor": "white",
            "gridwidth": 2,
            "linecolor": "white",
            "showbackground": true,
            "ticks": "",
            "zerolinecolor": "white"
           },
           "yaxis": {
            "backgroundcolor": "#E5ECF6",
            "gridcolor": "white",
            "gridwidth": 2,
            "linecolor": "white",
            "showbackground": true,
            "ticks": "",
            "zerolinecolor": "white"
           },
           "zaxis": {
            "backgroundcolor": "#E5ECF6",
            "gridcolor": "white",
            "gridwidth": 2,
            "linecolor": "white",
            "showbackground": true,
            "ticks": "",
            "zerolinecolor": "white"
           }
          },
          "shapedefaults": {
           "line": {
            "color": "#2a3f5f"
           }
          },
          "ternary": {
           "aaxis": {
            "gridcolor": "white",
            "linecolor": "white",
            "ticks": ""
           },
           "baxis": {
            "gridcolor": "white",
            "linecolor": "white",
            "ticks": ""
           },
           "bgcolor": "#E5ECF6",
           "caxis": {
            "gridcolor": "white",
            "linecolor": "white",
            "ticks": ""
           }
          },
          "title": {
           "x": 0.05
          },
          "xaxis": {
           "automargin": true,
           "gridcolor": "white",
           "linecolor": "white",
           "ticks": "",
           "title": {
            "standoff": 15
           },
           "zerolinecolor": "white",
           "zerolinewidth": 2
          },
          "yaxis": {
           "automargin": true,
           "gridcolor": "white",
           "linecolor": "white",
           "ticks": "",
           "title": {
            "standoff": 15
           },
           "zerolinecolor": "white",
           "zerolinewidth": 2
          }
         }
        }
       }
      }
     },
     "metadata": {},
     "output_type": "display_data"
    }
   ],
   "source": [
    "recmetrics.metrics_plot(model_names=model_names,\n",
    "             coverage_scores=coverage_scores,\n",
    "             personalization_scores=personalization_scores,\n",
    "             intra_list_similarity_scores=intralistsim_scores,\n",
    "             )"
   ]
  }
 ],
 "metadata": {
  "kernelspec": {
   "display_name": "ml",
   "language": "python",
   "name": "python3"
  },
  "language_info": {
   "codemirror_mode": {
    "name": "ipython",
    "version": 3
   },
   "file_extension": ".py",
   "mimetype": "text/x-python",
   "name": "python",
   "nbconvert_exporter": "python",
   "pygments_lexer": "ipython3",
   "version": "3.10.10"
  },
  "orig_nbformat": 4
 },
 "nbformat": 4,
 "nbformat_minor": 2
}
